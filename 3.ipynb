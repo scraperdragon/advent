{
 "cells": [
  {
   "cell_type": "code",
   "execution_count": 6,
   "metadata": {
    "collapsed": false
   },
   "outputs": [
    {
     "data": {
      "text/plain": [
       "'v>v<vvv<<vv^v<v>vv>v<<<^^^^^<<'"
      ]
     },
     "execution_count": 6,
     "metadata": {},
     "output_type": "execute_result"
    }
   ],
   "source": [
    "import advent\n",
    "directions = advent.get_input(\"http://adventofcode.com/day/3/input\")\n",
    "directions[:30]"
   ]
  },
  {
   "cell_type": "code",
   "execution_count": 20,
   "metadata": {
    "collapsed": false
   },
   "outputs": [
    {
     "data": {
      "text/plain": [
       "{(0, 0)}"
      ]
     },
     "execution_count": 20,
     "metadata": {},
     "output_type": "execute_result"
    }
   ],
   "source": [
    "houses = set()\n",
    "x = 0\n",
    "y = 0\n",
    "\n",
    "houses.add((x,y))\n",
    "houses"
   ]
  },
  {
   "cell_type": "code",
   "execution_count": 21,
   "metadata": {
    "collapsed": false
   },
   "outputs": [
    {
     "data": {
      "text/plain": [
       "2572"
      ]
     },
     "execution_count": 21,
     "metadata": {},
     "output_type": "execute_result"
    }
   ],
   "source": [
    "for char in directions:\n",
    "    if char == 'v':\n",
    "        y=y+1\n",
    "    if char == '^':\n",
    "        y=y-1\n",
    "    if char == '<':\n",
    "        x=x-1\n",
    "    if char == '>':\n",
    "        x=x+1\n",
    "    houses.add((x,y))\n",
    "len(houses)"
   ]
  },
  {
   "cell_type": "markdown",
   "metadata": {},
   "source": [
    "Right. So now we need to repeat and rinse with half the input each."
   ]
  },
  {
   "cell_type": "code",
   "execution_count": 48,
   "metadata": {
    "collapsed": false
   },
   "outputs": [
    {
     "data": {
      "text/plain": [
       "2631"
      ]
     },
     "execution_count": 48,
     "metadata": {},
     "output_type": "execute_result"
    }
   ],
   "source": [
    "houses = set()\n",
    "houses.add((0,0))\n",
    "\n",
    "class Sleigh(object):\n",
    "    def __init__(self):\n",
    "        self.x = 0\n",
    "        self.y = 0\n",
    "        \n",
    "    def move(self, char):\n",
    "        if char == 'v':\n",
    "            self.y=self.y+1\n",
    "        if char == '^':\n",
    "            self.y=self.y-1\n",
    "        if char == '<':\n",
    "            self.x=self.x-1\n",
    "        if char == '>':\n",
    "            self.x=self.x+1\n",
    "        return (self.x,self.y)\n",
    "\n",
    "santa = Sleigh()\n",
    "robot = Sleigh()\n",
    "\n",
    "for char in directions[0::2]:\n",
    "    houses.add(santa.move(char))\n",
    "for char in directions[1::2]:\n",
    "    houses.add(robot.move(char))\n",
    "len(houses)"
   ]
  },
  {
   "cell_type": "code",
   "execution_count": null,
   "metadata": {
    "collapsed": true
   },
   "outputs": [],
   "source": []
  }
 ],
 "metadata": {
  "kernelspec": {
   "display_name": "Python 3",
   "language": "python",
   "name": "python3"
  },
  "language_info": {
   "codemirror_mode": {
    "name": "ipython",
    "version": 3
   },
   "file_extension": ".py",
   "mimetype": "text/x-python",
   "name": "python",
   "nbconvert_exporter": "python",
   "pygments_lexer": "ipython3",
   "version": "3.4.3"
  }
 },
 "nbformat": 4,
 "nbformat_minor": 0
}
