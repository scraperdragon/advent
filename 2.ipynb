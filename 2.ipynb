{
 "cells": [
  {
   "cell_type": "code",
   "execution_count": 7,
   "metadata": {
    "collapsed": false
   },
   "outputs": [
    {
     "name": "stdout",
     "output_type": "stream",
     "text": [
      "4x23x21\n",
      "22x29x19\n",
      "11x4x11\n",
      "8x10x5\n",
      "24x18x16\n",
      "11x25x22\n",
      "\n"
     ]
    }
   ],
   "source": [
    "import advent\n",
    "presents = advent.get_input(\"http://adventofcode.com/day/2/input\")\n",
    "print (presents[:50])"
   ]
  },
  {
   "cell_type": "markdown",
   "metadata": {},
   "source": [
    "So you'll notice I've got a new module called advent, it contains this:"
   ]
  },
  {
   "cell_type": "code",
   "execution_count": 8,
   "metadata": {
    "collapsed": true
   },
   "outputs": [],
   "source": [
    "import requests\n",
    "import cookie\n",
    "def get_input(url):\n",
    "    cookie_crumbs = cookie.cookie.partition('=') # (\"session\", \"=\", \"...\")\n",
    "    cookie_dict = {cookie_crumbs[0]: cookie_crumbs[2]}\n",
    "    return requests.get(url, cookies=cookie_dict).text"
   ]
  },
  {
   "cell_type": "markdown",
   "metadata": {},
   "source": [
    "So I can quickly get the input with less faff. So; lets crack on; split the data up into a nicer shape:"
   ]
  },
  {
   "cell_type": "code",
   "execution_count": 11,
   "metadata": {
    "collapsed": false
   },
   "outputs": [
    {
     "name": "stdout",
     "output_type": "stream",
     "text": [
      "[['4', '23', '21'], ['22', '29', '19'], ['11', '4', '11'], ['8', '10', '5'], ['24', '18', '16'], ['11', '25', '22']]\n"
     ]
    }
   ],
   "source": [
    "nice_presents = []\n",
    "for present in presents.strip().split('\\n'):\n",
    "    nice_presents.append(present.strip().split('x'))\n",
    "print (nice_presents[:6])"
   ]
  },
  {
   "cell_type": "markdown",
   "metadata": {},
   "source": [
    "Ah, but these are strings."
   ]
  },
  {
   "cell_type": "code",
   "execution_count": 19,
   "metadata": {
    "collapsed": false
   },
   "outputs": [
    {
     "name": "stdout",
     "output_type": "stream",
     "text": [
      "[[4, 23, 21], [22, 29, 19], [11, 4, 11], [8, 10, 5], [24, 18, 16], [11, 25, 22]]\n"
     ]
    }
   ],
   "source": [
    "nice_presents = []\n",
    "for present in presents.strip().split('\\n'):\n",
    "    dimensions = [int(dim) for dim in present.strip().split('x')]\n",
    "    nice_presents.append(dimensions)\n",
    "print (nice_presents[:6])"
   ]
  },
  {
   "cell_type": "markdown",
   "metadata": {},
   "source": [
    "So for each present we need 2ab+2bc+2ac square feet plus the smallest side. Function time."
   ]
  },
  {
   "cell_type": "code",
   "execution_count": 23,
   "metadata": {
    "collapsed": false
   },
   "outputs": [
    {
     "name": "stdout",
     "output_type": "stream",
     "text": [
      "54\n"
     ]
    }
   ],
   "source": [
    "def area(a,b,c):\n",
    "    return 2*a*b + 2*a*c + 2*b*c + min([a,b,c])\n",
    "print (area(2,3,4))\n",
    "    "
   ]
  },
  {
   "cell_type": "markdown",
   "metadata": {},
   "source": [
    "Which agrees with the text. Now we loop:"
   ]
  },
  {
   "cell_type": "code",
   "execution_count": 26,
   "metadata": {
    "collapsed": false
   },
   "outputs": [
    {
     "name": "stdout",
     "output_type": "stream",
     "text": [
      "1458975\n"
     ]
    }
   ],
   "source": [
    "print (sum(area(*dims) for dims in nice_presents))"
   ]
  },
  {
   "cell_type": "markdown",
   "metadata": {},
   "source": [
    "Hmm. That's apparently not right -- it's the *area* of the smallest side. I'd misread the 58."
   ]
  },
  {
   "cell_type": "code",
   "execution_count": 27,
   "metadata": {
    "collapsed": false
   },
   "outputs": [
    {
     "name": "stdout",
     "output_type": "stream",
     "text": [
      "58\n"
     ]
    }
   ],
   "source": [
    "def area(a,b,c):\n",
    "    return 2*a*b + 2*a*c + 2*b*c + min([a*b,b*c,c*a])\n",
    "print (area(2,3,4))"
   ]
  },
  {
   "cell_type": "code",
   "execution_count": 28,
   "metadata": {
    "collapsed": false
   },
   "outputs": [
    {
     "name": "stdout",
     "output_type": "stream",
     "text": [
      "1598415\n"
     ]
    }
   ],
   "source": [
    "print (sum(area(*dims) for dims in nice_presents))"
   ]
  },
  {
   "cell_type": "markdown",
   "metadata": {},
   "source": [
    "So. Ribbon; shortest sides."
   ]
  },
  {
   "cell_type": "code",
   "execution_count": 34,
   "metadata": {
    "collapsed": false
   },
   "outputs": [
    {
     "name": "stdout",
     "output_type": "stream",
     "text": [
      "34\n"
     ]
    }
   ],
   "source": [
    "def ribbon(a,b,c):\n",
    "    return min((a+a+b+b, a+a+c+c, b+b+c+c)) + a*b*c\n",
    "print (ribbon(2,3,4))\n",
    "    "
   ]
  },
  {
   "cell_type": "code",
   "execution_count": 35,
   "metadata": {
    "collapsed": false
   },
   "outputs": [
    {
     "data": {
      "text/plain": [
       "3812909"
      ]
     },
     "execution_count": 35,
     "metadata": {},
     "output_type": "execute_result"
    }
   ],
   "source": [
    "sum(ribbon(*dims) for dims in nice_presents)"
   ]
  },
  {
   "cell_type": "code",
   "execution_count": null,
   "metadata": {
    "collapsed": true
   },
   "outputs": [],
   "source": []
  }
 ],
 "metadata": {
  "kernelspec": {
   "display_name": "Python 3",
   "language": "python",
   "name": "python3"
  },
  "language_info": {
   "codemirror_mode": {
    "name": "ipython",
    "version": 3
   },
   "file_extension": ".py",
   "mimetype": "text/x-python",
   "name": "python",
   "nbconvert_exporter": "python",
   "pygments_lexer": "ipython3",
   "version": "3.4.3"
  }
 },
 "nbformat": 4,
 "nbformat_minor": 0
}
