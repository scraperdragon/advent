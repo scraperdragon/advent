{
 "cells": [
  {
   "cell_type": "code",
   "execution_count": 3,
   "metadata": {
    "collapsed": false
   },
   "outputs": [
    {
     "data": {
      "text/plain": [
       "'acbd18db4cc2f85cedef654fccc4a4d8'"
      ]
     },
     "execution_count": 3,
     "metadata": {},
     "output_type": "execute_result"
    }
   ],
   "source": [
    "from hashlib import md5\n",
    "secret = \"bgvyzdsv\"\n",
    "md5(b\"foo\").hexdigest()"
   ]
  },
  {
   "cell_type": "code",
   "execution_count": 15,
   "metadata": {
    "collapsed": false
   },
   "outputs": [
    {
     "name": "stdout",
     "output_type": "stream",
     "text": [
      "1038736\n"
     ]
    }
   ],
   "source": [
    "i=0\n",
    "while True:\n",
    "    i=i+1\n",
    "    coin = (secret+str(i)).encode('latin-1')\n",
    "    _hex = md5(coin).hexdigest()\n",
    "    if _hex[:6] == \"000000\":\n",
    "        print (i)\n",
    "        break\n",
    "    "
   ]
  },
  {
   "cell_type": "markdown",
   "metadata": {},
   "source": [
    "You can see I've done the second part just by changing the length of the index.\n",
    "\n",
    "It's worth noting the text merging jiggerypokey I did: in Python 3, bytes and unicode text are quite different beasts and need to be handled differently. So I take the unicode text of the number, concatenate it onto the unicode text of the secret and then tell it to encode it to bytes.\n",
    "\n",
    "Wouldn't matter if I used `ascii` or `utf-8` instead of `latin-1` -- they're all the same for characters in `A-Za-z0-9` and basic punctuation. It'd make a difference if there was a `£` sign, for example..."
   ]
  },
  {
   "cell_type": "code",
   "execution_count": null,
   "metadata": {
    "collapsed": true
   },
   "outputs": [],
   "source": []
  }
 ],
 "metadata": {
  "kernelspec": {
   "display_name": "Python 3",
   "language": "python",
   "name": "python3"
  },
  "language_info": {
   "codemirror_mode": {
    "name": "ipython",
    "version": 3
   },
   "file_extension": ".py",
   "mimetype": "text/x-python",
   "name": "python",
   "nbconvert_exporter": "python",
   "pygments_lexer": "ipython3",
   "version": "3.4.3"
  }
 },
 "nbformat": 4,
 "nbformat_minor": 0
}
