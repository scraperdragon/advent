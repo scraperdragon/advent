{
 "cells": [
  {
   "cell_type": "code",
   "execution_count": 3,
   "metadata": {
    "collapsed": false
   },
   "outputs": [
    {
     "name": "stdout",
     "output_type": "stream",
     "text": [
      "Puzzle inputs differ by user.  Please log in to get your puzzle input.\n",
      "\n"
     ]
    }
   ],
   "source": [
    "import requests\n",
    "brackets = requests.get(\"http://adventofcode.com/day/1/input\").text\n",
    "print (brackets)"
   ]
  },
  {
   "cell_type": "markdown",
   "metadata": {},
   "source": [
    "Waa. That's disappointing. Let's try snaffling the cookie from the browser window: (in Chrome) right click, <kbd>Inspect Element</kbd>, <kbd>Network</kbd>, <kbd>F5</kbd> to refresh, click the file, <kbd>Headers</kbd>. I've copy-pasted it into a cookie.py file that's something like `cookie = \"session=...\"`"
   ]
  },
  {
   "cell_type": "code",
   "execution_count": 6,
   "metadata": {
    "collapsed": false
   },
   "outputs": [
    {
     "name": "stdout",
     "output_type": "stream",
     "text": [
      "session=...\n"
     ]
    }
   ],
   "source": [
    "import cookie\n",
    "print (cookie.cookie[:8] + '...')"
   ]
  },
  {
   "cell_type": "code",
   "execution_count": 16,
   "metadata": {
    "collapsed": false
   },
   "outputs": [
    {
     "name": "stdout",
     "output_type": "stream",
     "text": [
      "()()(()()( 7000\n"
     ]
    }
   ],
   "source": [
    "import requests\n",
    "cookie_crumbs = cookie.cookie.partition('=') # (\"session\", \"=\", \"...\")\n",
    "cookie_dict = {cookie_crumbs[0]: cookie_crumbs[2]}\n",
    "brackets=requests.get(\"http://adventofcode.com/day/1/input\", cookies=cookie_dict).text\n",
    "print (brackets[:10], len(brackets))"
   ]
  },
  {
   "cell_type": "markdown",
   "metadata": {},
   "source": [
    "That's a lot of brackets. Time to count them!"
   ]
  },
  {
   "cell_type": "code",
   "execution_count": 22,
   "metadata": {
    "collapsed": false
   },
   "outputs": [
    {
     "name": "stdout",
     "output_type": "stream",
     "text": [
      "3640 3360 280\n"
     ]
    }
   ],
   "source": [
    "left = len(['(' for x in brackets if x == '('])\n",
    "right = len([')' for x in brackets if x == ')'])\n",
    "print (left, right, left-right)"
   ]
  },
  {
   "cell_type": "markdown",
   "metadata": {},
   "source": [
    "Yay; 280 is the right answer for me. Now I need a solution that finds the first negative basement; think I actually need a proper loop now."
   ]
  },
  {
   "cell_type": "code",
   "execution_count": 26,
   "metadata": {
    "collapsed": false
   },
   "outputs": [
    {
     "name": "stdout",
     "output_type": "stream",
     "text": [
      "Entering basement at bracket 1796\n"
     ]
    }
   ],
   "source": [
    "floor = 0\n",
    "for i, bracket in enumerate(brackets):\n",
    "    if bracket == \"(\":\n",
    "        floor = floor + 1\n",
    "    if bracket == \")\":\n",
    "        floor = floor - 1\n",
    "    if floor < 0:\n",
    "        print (\"Entering basement at bracket {}\".format(i))\n",
    "        break\n",
    "        \n",
    "    "
   ]
  },
  {
   "cell_type": "markdown",
   "metadata": {},
   "source": [
    "Gah. That's off by one because Python starts at 0 and the question starts at 1. :(\n",
    "\n",
    "But yay, 1797 is my right answer."
   ]
  }
 ],
 "metadata": {
  "kernelspec": {
   "display_name": "Python 3",
   "language": "python",
   "name": "python3"
  },
  "language_info": {
   "codemirror_mode": {
    "name": "ipython",
    "version": 3
   },
   "file_extension": ".py",
   "mimetype": "text/x-python",
   "name": "python",
   "nbconvert_exporter": "python",
   "pygments_lexer": "ipython3",
   "version": "3.4.3"
  }
 },
 "nbformat": 4,
 "nbformat_minor": 0
}
